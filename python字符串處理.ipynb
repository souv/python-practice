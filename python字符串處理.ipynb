{
 "cells": [
  {
   "cell_type": "code",
   "execution_count": null,
   "metadata": {},
   "outputs": [],
   "source": [
    "#參考資料:\n",
    "#https://www.programiz.com/python-programming/regex"
   ]
  },
  {
   "cell_type": "code",
   "execution_count": 2,
   "metadata": {},
   "outputs": [
    {
     "name": "stdout",
     "output_type": "stream",
     "text": [
      "{'name': ['fff', 'hh', 'ff', 'ccc'], 'value': ['888', '333', '666', '666']}\n"
     ]
    }
   ],
   "source": [
    "#分割字串：re.split(分割的符號,字串)\n",
    "import re\n",
    "myword=[\"fff-888\",\"hh-333\",\"ff-666\",\"ccc-666\"]\n",
    "\n",
    "#形成name,value兩個list後，把兩個list轉為dict\n",
    "\n",
    "name=[];value=[]\n",
    "for i in myword:\n",
    "    name.append(re.split(\"-\",i)[0])\n",
    "    value.append(re.split(\"-\",i)[1])\n",
    "    myresult={\"name\":name,\"value\":value}\n",
    "    \n",
    "print(myresult)"
   ]
  },
  {
   "cell_type": "code",
   "execution_count": 10,
   "metadata": {},
   "outputs": [
    {
     "name": "stdout",
     "output_type": "stream",
     "text": [
      "['fff', 'hh', 'ff', 'ccc']\n"
     ]
    }
   ],
   "source": [
    "#回傳符合規則的字串：re.match(符合的字串規則,字串)，限制是一定要在第一個字元開始，re.search可以從任意位置搜尋\n",
    "myword2 = [\"999fff-888\",\"888hh-333\",\"777ff-666\",\"555ccc-666\"]\n",
    "\n",
    "name=[]\n",
    "for i in myword2:\n",
    "    name.append(re.match(\"[a-z]{2,3}\",i).group())\n",
    "print(name)"
   ]
  },
  {
   "cell_type": "code",
   "execution_count": 11,
   "metadata": {},
   "outputs": [
    {
     "name": "stdout",
     "output_type": "stream",
     "text": [
      "['fff', 'hh', 'ff', 'ccc']\n"
     ]
    }
   ],
   "source": [
    "#回傳符合條件的字串:re.search\n",
    "myword3 = [\"999fff-888\",\"888hh-333\",\"777ff-666\",\"555ccc-666\"]\n",
    "\n",
    "name = []\n",
    "for i in myword3:\n",
    "    name.append(re.search(\"[a-z]{2,3}\",i).group())\n",
    "print(name)"
   ]
  },
  {
   "cell_type": "code",
   "execution_count": 16,
   "metadata": {},
   "outputs": [
    {
     "name": "stdout",
     "output_type": "stream",
     "text": [
      "[['fff'], ['hh', 'hhh'], ['ff', 'nnn'], ['ccc']]\n"
     ]
    }
   ],
   "source": [
    "#回傳所有符合條件的字串，並且按照回傳的順序輸出成list : re.findall\n",
    "myword=[\"333-fff-888\",\"hh-333-hhh\",\"ff-666-nnn\",\"ccc-666\"]\n",
    "name=[]\n",
    "for i in myword:\n",
    "    name.append(re.findall(\"[a-z]{2,3}\",i))\n",
    "print(name)"
   ]
  },
  {
   "cell_type": "code",
   "execution_count": 17,
   "metadata": {},
   "outputs": [
    {
     "name": "stdout",
     "output_type": "stream",
     "text": [
      "['ccc88', 'abc78', 'abcd76']\n"
     ]
    }
   ],
   "source": [
    "#取代部分字元：re.sub\n",
    "myword = ['ccc-88','abc-78','abcd-76']\n",
    "name=[]\n",
    "for i in myword:\n",
    "    name.append(re.sub(\"-\",\"\",i))\n",
    "print(name)"
   ]
  },
  {
   "cell_type": "code",
   "execution_count": null,
   "metadata": {},
   "outputs": [],
   "source": [
    "#regression expression\n",
    "\n",
    "#^a...s$\n",
    "#以a為開頭,s為結束的五個長度的字串都撈取出來\n",
    "\n",
    "#[abc],[123],[1:3],[a:e],[^abc],[^1:3]\n",
    "#[]裡面放的是一堆你想篩選出的字元\n",
    "\n",
    "#.代表任一個字元，若...代表三個字元\n",
    "\n",
    "# *會媒合到0或以上個字元 ???\n",
    "\n",
    "# +會媒合到1或以上個字元 ???\n",
    "\n",
    "# ?會媒合到0或以上左邊的字元 ???"
   ]
  }
 ],
 "metadata": {
  "kernelspec": {
   "display_name": "Python 3",
   "language": "python",
   "name": "python3"
  },
  "language_info": {
   "codemirror_mode": {
    "name": "ipython",
    "version": 3
   },
   "file_extension": ".py",
   "mimetype": "text/x-python",
   "name": "python",
   "nbconvert_exporter": "python",
   "pygments_lexer": "ipython3",
   "version": "3.7.1"
  }
 },
 "nbformat": 4,
 "nbformat_minor": 2
}
